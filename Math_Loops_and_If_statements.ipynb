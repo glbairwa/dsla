{
 "cells": [
  {
   "cell_type": "markdown",
   "metadata": {},
   "source": [
    "# Introduction to Python\n",
    "\n",
    "We will learn to  \n",
    "- do simple math\n",
    "- make loops\n",
    "- use if statements"
   ]
  },
  {
   "cell_type": "markdown",
   "metadata": {
    "collapsed": true
   },
   "source": [
    "## A smaller headline\n",
    "\n",
    "Markdown cells use Markdown format"
   ]
  },
  {
   "cell_type": "code",
   "execution_count": null,
   "metadata": {
    "collapsed": true
   },
   "outputs": [],
   "source": []
  },
  {
   "cell_type": "code",
   "execution_count": null,
   "metadata": {
    "collapsed": true
   },
   "outputs": [],
   "source": []
  },
  {
   "cell_type": "code",
   "execution_count": 2,
   "metadata": {},
   "outputs": [
    {
     "name": "stdout",
     "output_type": "stream",
     "text": [
      "8\n"
     ]
    }
   ],
   "source": [
    "# Let's do some math\n",
    "\n",
    "a = 2\n",
    "b = 4\n",
    "c = 2 * 4\n",
    "\n",
    "print(a * b)"
   ]
  },
  {
   "cell_type": "code",
   "execution_count": 4,
   "metadata": {},
   "outputs": [
    {
     "name": "stdout",
     "output_type": "stream",
     "text": [
      "[2, 4, 8]\n"
     ]
    }
   ],
   "source": [
    "# Let's make a list\n",
    "\n",
    "someList = [a,b,c]\n",
    "print(someList)\n",
    "\n",
    "# How can we see the contents of our list?"
   ]
  },
  {
   "cell_type": "code",
   "execution_count": 6,
   "metadata": {},
   "outputs": [
    {
     "data": {
      "text/plain": [
       "3"
      ]
     },
     "execution_count": 6,
     "metadata": {},
     "output_type": "execute_result"
    }
   ],
   "source": [
    "# How long is our list?\n",
    "\n",
    "len(someList)"
   ]
  },
  {
   "cell_type": "code",
   "execution_count": 10,
   "metadata": {},
   "outputs": [
    {
     "name": "stdout",
     "output_type": "stream",
     "text": [
      "2\n",
      "2\n",
      "4\n",
      "4\n",
      "8\n",
      "8\n",
      "---\n"
     ]
    }
   ],
   "source": [
    "# Now let's use our list in a for loop\n",
    "\n",
    "for item in someList: \n",
    "    print(item)\n",
    "    print(item)\n",
    "print('---')"
   ]
  },
  {
   "cell_type": "code",
   "execution_count": 18,
   "metadata": {},
   "outputs": [
    {
     "name": "stdout",
     "output_type": "stream",
     "text": [
      "4\n",
      "8\n",
      "16\n"
     ]
    },
    {
     "data": {
      "text/plain": [
       "[None, None, None]"
      ]
     },
     "execution_count": 18,
     "metadata": {},
     "output_type": "execute_result"
    }
   ],
   "source": [
    "#### When in doubt, use a list comprehension\n",
    "\n",
    "[print(item*2) for item in someList];"
   ]
  },
  {
   "cell_type": "code",
   "execution_count": 17,
   "metadata": {},
   "outputs": [
    {
     "name": "stdout",
     "output_type": "stream",
     "text": [
      "I  like Jupyter Notebooks\n",
      "I really  like Jupyter Notebooks\n",
      "I really really  like Jupyter Notebooks\n",
      "-----\n",
      "I  like Jupyter Notebooks\n",
      "I really  like Jupyter Notebooks\n",
      "I really really  like Jupyter Notebooks\n"
     ]
    },
    {
     "data": {
      "text/plain": [
       "[None, None, None]"
      ]
     },
     "execution_count": 17,
     "metadata": {},
     "output_type": "execute_result"
    }
   ],
   "source": [
    "# Create a new cell and in it, \n",
    "# convert this loop into a list comprehension\n",
    "\n",
    "for integer in range(0,3):\n",
    "    print('I ' + 'really ' * integer + ' like Jupyter Notebooks')\n",
    "    \n",
    "print('-----')    \n",
    "[print('I ' + 'really ' * integer + ' like Jupyter Notebooks') for integer in range(0,3)];"
   ]
  },
  {
   "cell_type": "code",
   "execution_count": 25,
   "metadata": {},
   "outputs": [
    {
     "name": "stdout",
     "output_type": "stream",
     "text": [
      "Gopal, and I like Python\n",
      "Shyam, and Gopal, and I like Python\n",
      "Jagdeep, and Shyam, and Gopal, and I like Python\n"
     ]
    }
   ],
   "source": [
    "# Let's use a loop to modify a string\n",
    "\n",
    "nameL = ['Gopal', 'Shyam', 'Jagdeep']\n",
    "myString = \"I like Python\"\n",
    "for name in nameL: \n",
    "    myString = name + ', and ' + myString   \n",
    "    print(myString)\n"
   ]
  },
  {
   "cell_type": "code",
   "execution_count": 26,
   "metadata": {},
   "outputs": [
    {
     "data": {
      "text/plain": [
       "'Jagdeep,  Shyam,  Gopal,  I like Python'"
      ]
     },
     "execution_count": 26,
     "metadata": {},
     "output_type": "execute_result"
    }
   ],
   "source": [
    "# Some string manipulation using replace() function\n",
    "myString = myString.replace(\", and\",\", \")\n",
    "myString"
   ]
  },
  {
   "cell_type": "code",
   "execution_count": 27,
   "metadata": {},
   "outputs": [
    {
     "data": {
      "text/plain": [
       "'Jagdeep, and Shyam, and Gopal, and I like Python'"
      ]
     },
     "execution_count": 27,
     "metadata": {},
     "output_type": "execute_result"
    }
   ],
   "source": [
    "# Now use replace to add the \"and\" where it should go\n",
    "myString = myString.replace(\", \",\", and\")\n",
    "myString"
   ]
  },
  {
   "cell_type": "code",
   "execution_count": 28,
   "metadata": {},
   "outputs": [
    {
     "name": "stdout",
     "output_type": "stream",
     "text": [
      "8\n"
     ]
    }
   ],
   "source": [
    "for number in someList:\n",
    "    if number > 4:\n",
    "        print(number)\n",
    "        \n",
    "# Make a new cell and see \n",
    "# if you can you turn this loop \n",
    "# into a list comprehension        "
   ]
  },
  {
   "cell_type": "code",
   "execution_count": 31,
   "metadata": {},
   "outputs": [
    {
     "name": "stdout",
     "output_type": "stream",
     "text": [
      "8\n"
     ]
    }
   ],
   "source": [
    "[print(number) for number in someList if number > 4];"
   ]
  },
  {
   "cell_type": "code",
   "execution_count": 32,
   "metadata": {},
   "outputs": [
    {
     "name": "stdout",
     "output_type": "stream",
     "text": [
      "2 is less than 3 \n",
      "4 is greater than or equal to 2 and less than 8\n",
      "8 is greater than or equal to 8\n"
     ]
    }
   ],
   "source": [
    "# Here's a similar if statement that also uses elif and else:\n",
    "\n",
    "for number in someList:\n",
    "    if number < 3:\n",
    "        print(number, 'is less than 3 ')\n",
    "    elif number >= 3 and number < 8:\n",
    "        print(number, 'is greater than or equal to 2 and less than 8')\n",
    "    else:\n",
    "        print(number, 'is greater than or equal to 8')"
   ]
  },
  {
   "cell_type": "code",
   "execution_count": 41,
   "metadata": {},
   "outputs": [
    {
     "name": "stdout",
     "output_type": "stream",
     "text": [
      "---\n"
     ]
    },
    {
     "data": {
      "text/plain": [
       "'Jagdeep, Shyam, Gopal, Jagdeep, Shyam, Gopal, and I like Python'"
      ]
     },
     "execution_count": 41,
     "metadata": {},
     "output_type": "execute_result"
    }
   ],
   "source": [
    "# Improve the myString loop.\n",
    "# This time, use an if statement to only add 'and' once.\n",
    "\n",
    "nameL = ['Gopal', 'Shyam', 'Jagdeep']\n",
    "myString = \"I like Python\"\n",
    "for name in nameL: \n",
    "    if ( name=='Gopal'):\n",
    "        myString = name + ', and ' + myString\n",
    "    else:\n",
    "        myString = name + ', ' + myString\n",
    "myString\n",
    "\n",
    "print('---')\n",
    "\n",
    "for name in nameL: \n",
    "    if ( 'and' not in myString ):\n",
    "        myString = name + ', and ' + myString\n",
    "    else:\n",
    "        myString = name + ', ' + myString\n",
    "myString\n"
   ]
  },
  {
   "cell_type": "code",
   "execution_count": 53,
   "metadata": {
    "scrolled": true
   },
   "outputs": [
    {
     "name": "stdout",
     "output_type": "stream",
     "text": [
      "What's your name?\n",
      "GOPAL\n"
     ]
    }
   ],
   "source": [
    "print(\"What's your name?\")\n",
    "name = input()"
   ]
  },
  {
   "cell_type": "code",
   "execution_count": 54,
   "metadata": {},
   "outputs": [
    {
     "name": "stdout",
     "output_type": "stream",
     "text": [
      "GOPAL , how do you think you did today?\n",
      "EXCELLENT\n"
     ]
    }
   ],
   "source": [
    "print(name, \", how do you think you did today?\")\n",
    "grade = input()"
   ]
  },
  {
   "cell_type": "code",
   "execution_count": 55,
   "metadata": {},
   "outputs": [
    {
     "name": "stdout",
     "output_type": "stream",
     "text": [
      "GOPAL did excellent!\n"
     ]
    }
   ],
   "source": [
    "name = name[0].upper() + name[1:]\n",
    "grade = grade.lower() + '!'\n",
    "print( name +' did', grade)"
   ]
  },
  {
   "cell_type": "code",
   "execution_count": null,
   "metadata": {
    "collapsed": true
   },
   "outputs": [],
   "source": []
  }
 ],
 "metadata": {
  "kernelspec": {
   "display_name": "Python 3",
   "language": "python",
   "name": "python3"
  },
  "language_info": {
   "codemirror_mode": {
    "name": "ipython",
    "version": 3
   },
   "file_extension": ".py",
   "mimetype": "text/x-python",
   "name": "python",
   "nbconvert_exporter": "python",
   "pygments_lexer": "ipython3",
   "version": "3.5.2"
  }
 },
 "nbformat": 4,
 "nbformat_minor": 2
}
